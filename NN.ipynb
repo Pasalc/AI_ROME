{
 "cells": [
  {
   "cell_type": "code",
   "execution_count": 30,
   "metadata": {
    "_cell_guid": "b1076dfc-b9ad-4769-8c92-a6c4dae69d19",
    "_uuid": "8f2839f25d086af736a60e9eeb907d3b93b6e0e5",
    "execution": {
     "iopub.execute_input": "2020-11-24T15:33:44.617819Z",
     "iopub.status.busy": "2020-11-24T15:33:44.616734Z",
     "iopub.status.idle": "2020-11-24T15:33:48.545917Z",
     "shell.execute_reply": "2020-11-24T15:33:48.545192Z"
    },
    "papermill": {
     "duration": 3.947576,
     "end_time": "2020-11-24T15:33:48.546057",
     "exception": false,
     "start_time": "2020-11-24T15:33:44.598481",
     "status": "completed"
    },
    "tags": []
   },
   "outputs": [],
   "source": [
    "import numpy as np\n",
    "import random\n",
    "import sys\n",
    "from PIL import Image\n",
    "import os # ,cv2\n",
    "\n",
    "from matplotlib import pyplot as plt\n"
   ]
  },
  {
   "cell_type": "code",
   "execution_count": 31,
   "metadata": {},
   "outputs": [
    {
     "name": "stdout",
     "output_type": "stream",
     "text": [
      "Loading class: 10\n",
      "Loading class: 50\n",
      "Loading class: 400\n",
      "Loading class: 900\n",
      "Loading class: 40\n",
      "Loading class: 90\n",
      "Loading class: 500\n",
      "Loading class: 100\n",
      "Loading class: 1000\n",
      "Loading class: 5\n",
      "Loading class: 1\n",
      "Loading class: 9\n",
      "Loading class: 4\n"
     ]
    }
   ],
   "source": [
    "\n",
    "data=[]\n",
    "dataset=os.listdir('dataset')\n",
    "for class_num,data_class in enumerate(dataset):\n",
    "    print(f\"Loading class: {data_class}\")\n",
    "    directory=f'dataset/{data_class}/'\n",
    "    class_files=[os.path.join(directory, file) for file in os.listdir(directory)]\n",
    "    for file in class_files:\n",
    "        img = Image.open(file).convert('L')\n",
    "        img=np.array(img) #/ 255\n",
    "        dataWithLabel=np.append(img,class_num)\n",
    "        data.append(dataWithLabel)\n",
    "    "
   ]
  },
  {
   "cell_type": "code",
   "execution_count": 32,
   "metadata": {
    "execution": {
     "iopub.execute_input": "2020-11-24T15:33:48.577955Z",
     "iopub.status.busy": "2020-11-24T15:33:48.576778Z",
     "iopub.status.idle": "2020-11-24T15:33:49.353469Z",
     "shell.execute_reply": "2020-11-24T15:33:49.352724Z"
    },
    "papermill": {
     "duration": 0.795759,
     "end_time": "2020-11-24T15:33:49.353603",
     "exception": false,
     "start_time": "2020-11-24T15:33:48.557844",
     "status": "completed"
    },
    "tags": []
   },
   "outputs": [],
   "source": [
    "data = np.array(data)\n",
    "dataset_size, _ = data.shape\n",
    "np.random.shuffle(data) # shuffle before splitting into dev and training sets\n",
    "train_amount=int(dataset_size*0.8)\n",
    "\n",
    "data_train = data[0:train_amount].T\n",
    "X_train = data_train[0:-1]\n",
    "X_train = X_train / 255\n",
    "Y_train = data_train[-1]\n",
    "_,m_train = X_train.shape\n",
    "\n",
    "data_test = data[train_amount:].T\n",
    "X_test = data_test[0:-1]\n",
    "X_test = X_test / 255\n",
    "Y_test = data_test[-1]\n",
    "\n",
    "\n",
    "X_train=(X_train.T).flatten().reshape(1040,500,500)\n",
    "X_train=(X_test.T).flatten().reshape(260,500,500)"
   ]
  },
  {
   "cell_type": "code",
   "execution_count": 33,
   "metadata": {
    "execution": {
     "iopub.execute_input": "2020-11-24T15:33:49.385574Z",
     "iopub.status.busy": "2020-11-24T15:33:49.384483Z",
     "iopub.status.idle": "2020-11-24T15:33:49.388342Z",
     "shell.execute_reply": "2020-11-24T15:33:49.388923Z"
    },
    "papermill": {
     "duration": 0.023743,
     "end_time": "2020-11-24T15:33:49.389054",
     "exception": false,
     "start_time": "2020-11-24T15:33:49.365311",
     "status": "completed"
    },
    "tags": []
   },
   "outputs": [
    {
     "data": {
      "text/plain": [
       "array([ 8,  7,  4, ...,  0,  5, 12])"
      ]
     },
     "execution_count": 33,
     "metadata": {},
     "output_type": "execute_result"
    }
   ],
   "source": [
    "Y_train"
   ]
  },
  {
   "cell_type": "code",
   "execution_count": 46,
   "metadata": {},
   "outputs": [],
   "source": [
    "def init_params():\n",
    "    W1 = np.random.rand(10, 784) - 0.5\n",
    "    b1 = np.random.rand(10, 1) - 0.5\n",
    "    W2 = np.random.rand(10, 10) - 0.5\n",
    "    b2 = np.random.rand(10, 1) - 0.5\n",
    "    return W1, b1, W2, b2\n",
    "\n",
    "def ReLU(Z):\n",
    "    return np.maximum(Z, 0)\n",
    "\n",
    "def ReLU_deriv(Z):\n",
    "    return Z > 0\n",
    "\n",
    "def softmax(Z):\n",
    "    A = np.exp(Z) / sum(np.exp(Z))\n",
    "    return A\n",
    "def one_hot(Y):\n",
    "    one_hot_Y = np.zeros((Y.size, Y.max() + 1))\n",
    "    one_hot_Y[np.arange(Y.size), Y] = 1\n",
    "    one_hot_Y = one_hot_Y.T\n",
    "    return one_hot_Y\n",
    "def convolve(image,kernel):\n",
    "    k_x,k_y=kernel.shape\n",
    "    x_size=image.shape[0]-k_x\n",
    "    y_size=image.shape[1]-k_y\n",
    "    out=np.zeros((x_size,y_size))\n",
    "    for x in range(x_size):\n",
    "        for y in range(y_size):\n",
    "            out[x][y]=np.tensordot(image[x:x+k_x,y:y+k_y],kernel)"
   ]
  },
  {
   "cell_type": "code",
   "execution_count": 34,
   "metadata": {},
   "outputs": [],
   "source": [
    "class Convolutional:\n",
    "        def __init__(self,  kernel_specs=(3,3), padding=1, stride=1, bias=0.1, eta=0.01): #eta=learning rate\n",
    "                self.specs=kernel_specs               \n",
    "                self.padding=padding\n",
    "                self.stride=stride\n",
    "                self.eta = eta\n",
    "                self.iteration = 0                       \n",
    "                self.cache = 0                  \n",
    "                self.kernel=np.random.rand(*kernel_specs)*0.1\n",
    "\n",
    "        def pad(self,images):\n",
    "            new_images=[]\n",
    "            for image in images:\n",
    "                p=self.padding\n",
    "                x,y=image.shape\n",
    "                new_img=np.zeros((x+p, y+p))\n",
    "                new_img[p:,p:]=image\n",
    "                new_images.append(new_img)\n",
    "            return new_images\n",
    "        \n",
    "        def forward_prop(self, images):\n",
    "            if(self.padding!=0):\n",
    "                images=self.pad(images)\n",
    "            self.cache=images\n",
    "            out=[]\n",
    "            for image in images:\n",
    "                out.append(convolve(image,np.flip(self.kernel)))\n",
    "            #out=[]\n",
    "            #for kernel in self.filters:\n",
    "            #    out.append(convolve(image,kernel))\n",
    "            out=np.array(out)\n",
    "            return out\n",
    "        def backward_prop(self, d_out):\n",
    "            flipped_kernel=np.flip(self.kernel)\n",
    "            padded_d_out=pad(d_out,flipped_kernel.shape[0]-1)\n",
    "            d_input=convolve(padded_d_out,flipped_kernel)\n",
    "            d_kernel=convolve(self.cache,np.flip(d_out)) #*self.dW))\n",
    "            \"\"\"d_input=[]\n",
    "            d_filters=[]\n",
    "            for kernel in self.filters:\n",
    "                kernel=np.flip(kernel)\n",
    "                d_input.append(convolve(d_out,kernel))\n",
    "                d_filters.append(d_out)\n",
    "            d_input=np.array(d_input)\n",
    "            d_filter=[]\n",
    "            \"\"\"\n",
    "            return d_input\n",
    "\n",
    "        def gd(self, d_kernel): #, d_bias):\n",
    "                    self.eta = self.eta * np.exp(-self.iteration/20000)\n",
    "                    self.kernel -= self.eta * (d_kernel)\n",
    "                    self.iteration +=1"
   ]
  },
  {
   "cell_type": "code",
   "execution_count": 35,
   "metadata": {},
   "outputs": [],
   "source": [
    "class Pooling: \n",
    "        def __init__(self, image_dim=(1, 16,16), mode='avg', size=2, stride=2):\n",
    "                self.cache=None\n",
    "                #self.image_dim=image_dim\n",
    "                self.size=size\n",
    "                self.stride=stride\n",
    "                self.mode=mode\n",
    "        def forward_prop(self,image): #For Pooling layers, it is not common to pad the input using zero-padding.\n",
    "                w_in, h_in = self.image_dim.shape\n",
    "\n",
    "                w_out = int((w_in - self.size)/self.stride)+1\n",
    "                h_out = int((h_in - self.size)/self.stride)+1\n",
    "\n",
    "                out=np.zeros((layers, w_out, h_out))\n",
    "\n",
    "                #for layer in range(layers):\n",
    "                y_out, x_out = 0,0\n",
    "                for y in range(0, h_in - self.size, self.stride):\n",
    "                        x_out=0\n",
    "                        for x in range(0, w_in - self.size, self.stride):\n",
    "                                if self.mode=='avg':\n",
    "                                        out[ y_out, x_out] = np.average(images[  y:y+self.size, x:x+self.size])\n",
    "                                else: #max pooling is applied\n",
    "                                        out[layer, y_out, x_out] = np.max(images[  y:y+self.size, x:x+self.size])\n",
    "                                x_out+=1\n",
    "                        y_out+=1\n",
    "                return out\n",
    "\n",
    "\n",
    "        def backward_prop(self, d_out): #d_out is like the derivative of the pooling output, image is the input of the pooling layer\n",
    "                \n",
    "            layers, w_in, h_in = self.image_dim\n",
    "\n",
    "            w_out = int((w_in - self.size)/self.stride)+1\n",
    "            h_out = int((h_in - self.size)/self.stride)+1\n",
    "\n",
    "            out = np.zeros((layers, w_in, h_in))\n",
    "\n",
    "            y_out, x_out = 0,0\n",
    "            for y in range(0, h_out, self.stride):\n",
    "                x_out=0\n",
    "\n",
    "                for x in range(0, w_out, self.stride):\n",
    "\n",
    "                    if self.mode=='avg':    #not sure about that\n",
    "\n",
    "                        average_dout=d_out[y_out,x_out]/(self.size*2)\n",
    "                        out[ y:(y+self.size), x:(x+self.size)] += np.ones((self.size,self.size))*average_dout\n",
    "\n",
    "                    else: #max pooling is applied\n",
    "\n",
    "                        area = self.cache[ y:y+self.size, x:x+self.size]\n",
    "                        index = np.nanargmax(area)\n",
    "                        (y_i, x_i) = np.unravel_index(index, area.shape)\n",
    "                        out[ y + y_i, x + x_i] += d_out[ y_out, x_out]\n",
    "                    x_out+=1\n",
    "                y_out+=1\n",
    "                return  out"
   ]
  },
  {
   "cell_type": "code",
   "execution_count": 36,
   "metadata": {},
   "outputs": [],
   "source": [
    "class Dense:\n",
    "    def forward_prop(X, W, b, activation):\n",
    "        Z = W.dot(X) + b\n",
    "        A = activation(Z)\n",
    "        return Z,A\n",
    "\n",
    "    def backward_prop(dZ, A):\n",
    "        dW = 1 / dataset_size * dZ.dot(A.T)\n",
    "        db = 1 / dataset_size * np.sum(dZ)\n",
    "        return dW, db\n",
    "\n",
    "    def get_delta(dZ, Z_prev, W, deriv):\n",
    "        dZ_previous = W.T.dot(dZ) * deriv(Z_prev)\n",
    "        return dZ_previous\n",
    "    \n",
    "    def update_params(dW, db, W, b, eta):\n",
    "        W = W - alpha * dW\n",
    "        b = b - alpha * db   \n",
    "        return W, b"
   ]
  },
  {
   "cell_type": "code",
   "execution_count": 38,
   "metadata": {
    "execution": {
     "iopub.execute_input": "2020-11-24T15:33:49.496820Z",
     "iopub.status.busy": "2020-11-24T15:33:49.493109Z",
     "iopub.status.idle": "2020-11-24T15:33:49.499268Z",
     "shell.execute_reply": "2020-11-24T15:33:49.499782Z"
    },
    "papermill": {
     "duration": 0.026744,
     "end_time": "2020-11-24T15:33:49.499906",
     "exception": false,
     "start_time": "2020-11-24T15:33:49.473162",
     "status": "completed"
    },
    "tags": []
   },
   "outputs": [],
   "source": [
    "def get_predictions(A2):\n",
    "    return np.argmax(A2, 0)\n",
    "\n",
    "def get_accuracy(predictions, Y):\n",
    "    print(predictions, Y)\n",
    "    return np.sum(predictions == Y) / Y.size\n"
   ]
  },
  {
   "cell_type": "code",
   "execution_count": 44,
   "metadata": {},
   "outputs": [
    {
     "name": "stdout",
     "output_type": "stream",
     "text": [
      "0\n"
     ]
    },
    {
     "ename": "ValueError",
     "evalue": "shapes (10,784) and (260,500,500) not aligned: 784 (dim 1) != 500 (dim 1)",
     "output_type": "error",
     "traceback": [
      "\u001b[0;31m---------------------------------------------------------------------------\u001b[0m",
      "\u001b[0;31mValueError\u001b[0m                                Traceback (most recent call last)",
      "Cell \u001b[0;32mIn [44], line 16\u001b[0m\n\u001b[1;32m      9\u001b[0m \u001b[38;5;28mprint\u001b[39m(iteration)\n\u001b[1;32m     10\u001b[0m \u001b[38;5;66;03m#C1_out = C1_layer.forward_prop(X_train)\u001b[39;00m\n\u001b[1;32m     11\u001b[0m \u001b[38;5;66;03m#P1_out = P1_layer.forward_prop(C1_out)\u001b[39;00m\n\u001b[1;32m     12\u001b[0m \u001b[38;5;66;03m#print(\"C2\")\u001b[39;00m\n\u001b[1;32m     13\u001b[0m \u001b[38;5;66;03m#C2_out = C2_layer.forward_prop(P1_out)\u001b[39;00m\n\u001b[1;32m     14\u001b[0m \u001b[38;5;66;03m#P2_out = P2_layer.forward_prop(C2_out)\u001b[39;00m\n\u001b[1;32m     15\u001b[0m \u001b[38;5;66;03m#convolution_flatten = P2_out.flatten()\u001b[39;00m\n\u001b[0;32m---> 16\u001b[0m Z1, A1 \u001b[38;5;241m=\u001b[39m \u001b[43mDense\u001b[49m\u001b[38;5;241;43m.\u001b[39;49m\u001b[43mforward_prop\u001b[49m\u001b[43m(\u001b[49m\u001b[43mX_train\u001b[49m\u001b[43m,\u001b[49m\u001b[43mW1\u001b[49m\u001b[43m,\u001b[49m\u001b[43mb1\u001b[49m\u001b[43m,\u001b[49m\u001b[43mReLU\u001b[49m\u001b[43m)\u001b[49m\n\u001b[1;32m     17\u001b[0m Z2, A2 \u001b[38;5;241m=\u001b[39m Dense\u001b[38;5;241m.\u001b[39mforward_prop(A1,W2,b2,softmax)\n\u001b[1;32m     19\u001b[0m dZ2 \u001b[38;5;241m=\u001b[39m A2\u001b[38;5;241m-\u001b[39monehot_Y\n",
      "Cell \u001b[0;32mIn [36], line 3\u001b[0m, in \u001b[0;36mDense.forward_prop\u001b[0;34m(X, W, b, activation)\u001b[0m\n\u001b[1;32m      2\u001b[0m \u001b[38;5;28;01mdef\u001b[39;00m \u001b[38;5;21mforward_prop\u001b[39m(X, W, b, activation):\n\u001b[0;32m----> 3\u001b[0m     Z \u001b[38;5;241m=\u001b[39m \u001b[43mW\u001b[49m\u001b[38;5;241;43m.\u001b[39;49m\u001b[43mdot\u001b[49m\u001b[43m(\u001b[49m\u001b[43mX\u001b[49m\u001b[43m)\u001b[49m \u001b[38;5;241m+\u001b[39m b\n\u001b[1;32m      4\u001b[0m     A \u001b[38;5;241m=\u001b[39m activation(Z)\n\u001b[1;32m      5\u001b[0m     \u001b[38;5;28;01mreturn\u001b[39;00m Z,A\n",
      "\u001b[0;31mValueError\u001b[0m: shapes (10,784) and (260,500,500) not aligned: 784 (dim 1) != 500 (dim 1)"
     ]
    }
   ],
   "source": [
    "eta=0.01\n",
    "epochs=100\n",
    "C1_layer=Convolutional()\n",
    "P1_layer=Pooling()\n",
    "C2_layer=Convolutional()\n",
    "P2_layer=Pooling(mode='max')\n",
    "W1,b1,W2,b2 = init_params()\n",
    "X_train=X_train.flatten()\n",
    "for iteration in range(epochs):\n",
    "    print(iteration)\n",
    "    #C1_out = C1_layer.forward_prop(X_train)\n",
    "    #P1_out = P1_layer.forward_prop(C1_out)\n",
    "    #print(\"C2\")\n",
    "    #C2_out = C2_layer.forward_prop(P1_out)\n",
    "    #P2_out = P2_layer.forward_prop(C2_out)\n",
    "    #convolution_flatten = P2_out.flatten()\n",
    "    Z1, A1 = Dense.forward_prop(X_train,W1,b1,ReLU)\n",
    "    Z2, A2 = Dense.forward_prop(A1,W2,b2,softmax)\n",
    "\n",
    "    dZ2 = A2-onehot_Y\n",
    "    dW2, db2 = Dense.backward_prop(dZ2,A1)\n",
    "    dZ1 = Dense.get_delta(dZ2, Z1, W2, ReLU_deriv)\n",
    "    dW1, db1 = Dense.backward_prop(dZ2,X_train)\n",
    "\n",
    "    eta=eta * np.exp(-iteration/20000)\n",
    "    W1,b1 = Dense.update_params(dW1,db1,W1,b1,eta)\n",
    "    W2,b2 = Dense.update_params(dW2,db2,W2,b2,eta)"
   ]
  },
  {
   "cell_type": "code",
   "execution_count": null,
   "metadata": {
    "execution": {
     "iopub.execute_input": "2020-11-24T15:33:49.529813Z",
     "iopub.status.busy": "2020-11-24T15:33:49.529067Z",
     "iopub.status.idle": "2020-11-24T15:34:33.915250Z",
     "shell.execute_reply": "2020-11-24T15:34:33.914598Z"
    },
    "papermill": {
     "duration": 44.403186,
     "end_time": "2020-11-24T15:34:33.915380",
     "exception": false,
     "start_time": "2020-11-24T15:33:49.512194",
     "status": "completed"
    },
    "tags": []
   },
   "outputs": [],
   "source": [
    "W1, b1, W2, b2 = gradient_descent(X_train, Y_train, 0.10, 500)"
   ]
  },
  {
   "cell_type": "code",
   "execution_count": 7,
   "metadata": {
    "execution": {
     "iopub.execute_input": "2020-11-24T15:34:34.058947Z",
     "iopub.status.busy": "2020-11-24T15:34:34.058192Z",
     "iopub.status.idle": "2020-11-24T15:34:34.061542Z",
     "shell.execute_reply": "2020-11-24T15:34:34.060921Z"
    },
    "papermill": {
     "duration": 0.048197,
     "end_time": "2020-11-24T15:34:34.061656",
     "exception": false,
     "start_time": "2020-11-24T15:34:34.013459",
     "status": "completed"
    },
    "tags": []
   },
   "outputs": [],
   "source": [
    "def make_predictions(X, W1, b1, W2, b2):\n",
    "    _, _, _, A2 = forward_prop(W1, b1, W2, b2, X)\n",
    "    predictions = get_predictions(A2)\n",
    "    return predictions\n",
    "\n",
    "def test_prediction(index, W1, b1, W2, b2):\n",
    "    current_image = X_train[:, index, None]\n",
    "    prediction = make_predictions(X_train[:, index, None], W1, b1, W2, b2)\n",
    "    label = Y_train[index]\n",
    "    print(\"Prediction: \", prediction)\n",
    "    print(\"Label: \", label)\n",
    "    \n",
    "    current_image = current_image.reshape((28, 28)) * 255\n",
    "    plt.gray()\n",
    "    plt.imshow(current_image, interpolation='nearest')\n",
    "    plt.show()"
   ]
  },
  {
   "cell_type": "code",
   "execution_count": 45,
   "metadata": {
    "execution": {
     "iopub.execute_input": "2020-11-24T15:34:34.198764Z",
     "iopub.status.busy": "2020-11-24T15:34:34.197926Z",
     "iopub.status.idle": "2020-11-24T15:34:34.858256Z",
     "shell.execute_reply": "2020-11-24T15:34:34.857536Z"
    },
    "papermill": {
     "duration": 0.699008,
     "end_time": "2020-11-24T15:34:34.858375",
     "exception": false,
     "start_time": "2020-11-24T15:34:34.159367",
     "status": "completed"
    },
    "tags": []
   },
   "outputs": [
    {
     "ename": "NameError",
     "evalue": "name 'test_prediction' is not defined",
     "output_type": "error",
     "traceback": [
      "\u001b[0;31m---------------------------------------------------------------------------\u001b[0m",
      "\u001b[0;31mNameError\u001b[0m                                 Traceback (most recent call last)",
      "Cell \u001b[0;32mIn [45], line 1\u001b[0m\n\u001b[0;32m----> 1\u001b[0m \u001b[43mtest_prediction\u001b[49m(\u001b[38;5;241m0\u001b[39m, W1, b1, W2, b2)\n\u001b[1;32m      2\u001b[0m test_prediction(\u001b[38;5;241m1\u001b[39m, W1, b1, W2, b2)\n\u001b[1;32m      3\u001b[0m test_prediction(\u001b[38;5;241m2\u001b[39m, W1, b1, W2, b2)\n",
      "\u001b[0;31mNameError\u001b[0m: name 'test_prediction' is not defined"
     ]
    }
   ],
   "source": [
    "test_prediction(0, W1, b1, W2, b2)\n",
    "test_prediction(1, W1, b1, W2, b2)\n",
    "test_prediction(2, W1, b1, W2, b2)\n",
    "test_prediction(3, W1, b1, W2, b2)"
   ]
  }
 ],
 "metadata": {
  "kernelspec": {
   "display_name": "Python 3 (ipykernel)",
   "language": "python",
   "name": "python3"
  },
  "language_info": {
   "codemirror_mode": {
    "name": "ipython",
    "version": 3
   },
   "file_extension": ".py",
   "mimetype": "text/x-python",
   "name": "python",
   "nbconvert_exporter": "python",
   "pygments_lexer": "ipython3",
   "version": "3.10.8"
  },
  "papermill": {
   "duration": 55.320944,
   "end_time": "2020-11-24T15:34:35.258832",
   "environment_variables": {},
   "exception": null,
   "input_path": "__notebook__.ipynb",
   "output_path": "__notebook__.ipynb",
   "parameters": {},
   "start_time": "2020-11-24T15:33:39.937888",
   "version": "2.1.0"
  }
 },
 "nbformat": 4,
 "nbformat_minor": 4
}
